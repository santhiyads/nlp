{
 "cells": [
  {
   "cell_type": "markdown",
   "metadata": {},
   "source": [
    "### EXERCISE-1: Print TFIDF values"
   ]
  },
  {
   "cell_type": "code",
   "execution_count": 5,
   "metadata": {},
   "outputs": [],
   "source": [
    "from sklearn.feature_extraction. text import TfidfVectorizer \n",
    "import pandas as pd"
   ]
  },
  {
   "cell_type": "code",
   "execution_count": 6,
   "metadata": {},
   "outputs": [],
   "source": [
    "docs = [\"good movie\", \"not a good movie\", \"did not like\",\"i like it\", \"good one\" ]"
   ]
  },
  {
   "cell_type": "code",
   "execution_count": 7,
   "metadata": {},
   "outputs": [
    {
     "name": "stdout",
     "output_type": "stream",
     "text": [
      "  (0, 0)\t0.7071067811865476\n",
      "  (0, 2)\t0.7071067811865476\n",
      "  (1, 3)\t0.5773502691896257\n",
      "  (1, 0)\t0.5773502691896257\n",
      "  (1, 2)\t0.5773502691896257\n",
      "  (2, 1)\t0.7071067811865476\n",
      "  (2, 3)\t0.7071067811865476\n",
      "  (3, 1)\t1.0\n"
     ]
    }
   ],
   "source": [
    "# using default tokenizer in TfidfVectorizer\n",
    "tfidf = TfidfVectorizer (min_df=2, max_df=0.5, ngram_range=(1, 2))\n",
    "features = tfidf.fit_transform (docs)\n",
    "print (features)"
   ]
  },
  {
   "cell_type": "code",
   "execution_count": 9,
   "metadata": {},
   "outputs": [
    {
     "name": "stdout",
     "output_type": "stream",
     "text": [
      "   good movie      like     movie       not\n",
      "0    0.707107  0.000000  0.707107  0.000000\n",
      "1    0.577350  0.000000  0.577350  0.577350\n",
      "2    0.000000  0.707107  0.000000  0.707107\n",
      "3    0.000000  1.000000  0.000000  0.000000\n",
      "4    0.000000  0.000000  0.000000  0.000000\n"
     ]
    }
   ],
   "source": [
    "# Pretty printing\n",
    "df = pd.DataFrame(features.todense (),columns=tfidf.get_feature_names_out())\n",
    "print (df)"
   ]
  },
  {
   "cell_type": "markdown",
   "metadata": {},
   "source": [
    "### EXERCISE-2:\n",
    "#### 1. Change the values of min_df and ngram_range and observe various outputs"
   ]
  },
  {
   "cell_type": "code",
   "execution_count": 11,
   "metadata": {
    "scrolled": true
   },
   "outputs": [
    {
     "name": "stdout",
     "output_type": "stream",
     "text": [
      "  (0, 3)\t1.0\n",
      "  (1, 4)\t0.7071067811865476\n",
      "  (1, 3)\t0.7071067811865476\n",
      "  (2, 2)\t0.5317722537280788\n",
      "  (2, 0)\t0.6591180018251055\n",
      "  (2, 4)\t0.5317722537280788\n",
      "  (3, 1)\t0.7782829228046183\n",
      "  (3, 2)\t0.6279137616509933\n",
      "  (4, 5)\t1.0\n"
     ]
    }
   ],
   "source": [
    "tfidf = TfidfVectorizer (min_df=1, max_df=0.5, ngram_range=(1,1))\n",
    "features = tfidf.fit_transform (docs)\n",
    "print (features)"
   ]
  },
  {
   "cell_type": "code",
   "execution_count": 46,
   "metadata": {},
   "outputs": [
    {
     "name": "stdout",
     "output_type": "stream",
     "text": [
      "        did        it      like     movie       not  one\n",
      "0  0.000000  0.000000  0.000000  1.000000  0.000000  0.0\n",
      "1  0.000000  0.000000  0.000000  0.707107  0.707107  0.0\n",
      "2  0.659118  0.000000  0.531772  0.000000  0.531772  0.0\n",
      "3  0.000000  0.778283  0.627914  0.000000  0.000000  0.0\n",
      "4  0.000000  0.000000  0.000000  0.000000  0.000000  1.0\n"
     ]
    }
   ],
   "source": [
    "# Pretty printing\n",
    "df = pd.DataFrame(features.todense(),columns=tfidf.get_feature_names())\n",
    "print (df)"
   ]
  },
  {
   "cell_type": "markdown",
   "metadata": {},
   "source": [
    "### EXERCISE-3: Compute Cosine Similarity between 2 Documents"
   ]
  },
  {
   "cell_type": "code",
   "execution_count": 4,
   "metadata": {},
   "outputs": [],
   "source": [
    "from sklearn.metrics.pairwise  import linear_kernel"
   ]
  },
  {
   "cell_type": "code",
   "execution_count": 14,
   "metadata": {},
   "outputs": [
    {
     "name": "stdout",
     "output_type": "stream",
     "text": [
      "[[0.70710678]]\n"
     ]
    }
   ],
   "source": [
    "# cosine score between 1st and 2nd doc\n",
    "doc1 = features [0:1]\n",
    "doc2 = features [1:2]\n",
    "score = linear_kernel (doc1, doc2)\n",
    "print (score)"
   ]
  },
  {
   "cell_type": "code",
   "execution_count": 15,
   "metadata": {},
   "outputs": [
    {
     "name": "stdout",
     "output_type": "stream",
     "text": [
      "[[1.         0.70710678 0.         0.         0.        ]]\n"
     ]
    }
   ],
   "source": [
    "# cosine score between 1st and all other docs \n",
    "scores = linear_kernel (doc1 , features)\n",
    "print (scores)"
   ]
  },
  {
   "cell_type": "code",
   "execution_count": 52,
   "metadata": {},
   "outputs": [
    {
     "name": "stdout",
     "output_type": "stream",
     "text": [
      "[[0.70710678 0.5        0.37601977 0.44400208 0.        ]]\n"
     ]
    }
   ],
   "source": [
    "# Cosine Similarity for a new doc\n",
    "query = \"I like this good movie\"\n",
    "qfeature = tfidf.transform([query])\n",
    "scores2 = linear_kernel (qfeature, features)\n",
    "print (scores2)"
   ]
  },
  {
   "cell_type": "markdown",
   "metadata": {},
   "source": [
    "### EXERCISE-4: Find Top-N similar documents\n",
    "#### Question-1. Consider the following documents and compute TFIDF values"
   ]
  },
  {
   "cell_type": "code",
   "execution_count": 56,
   "metadata": {},
   "outputs": [],
   "source": [
    "docs=[\"the house had a tiny little mouse\",\n",
    "\"the cat saw the mouse\",\n",
    "\"the mouse ran away from the house\",\n",
    "\"the cat finally ate the mouse\",\n",
    "\"the end of the mouse story\"\n",
    "     ]"
   ]
  },
  {
   "cell_type": "code",
   "execution_count": 57,
   "metadata": {},
   "outputs": [
    {
     "name": "stdout",
     "output_type": "stream",
     "text": [
      "  (0, 1)\t0.7071067811865476\n",
      "  (0, 3)\t0.7071067811865476\n",
      "  (1, 0)\t0.7071067811865476\n",
      "  (1, 2)\t0.7071067811865476\n",
      "  (2, 1)\t0.7071067811865476\n",
      "  (2, 3)\t0.7071067811865476\n",
      "  (3, 0)\t0.7071067811865476\n",
      "  (3, 2)\t0.7071067811865476\n"
     ]
    }
   ],
   "source": [
    "tfidf = TfidfVectorizer (min_df=2, max_df=0.5, ngram_range=(1, 2))\n",
    "features = tfidf.fit_transform (docs)\n",
    "print (features)"
   ]
  },
  {
   "cell_type": "markdown",
   "metadata": {},
   "source": [
    "#### Question-2. Compute cosine similarity between 3rd document (\"the mouse ran away from the house\") with all other documents. Which is the most similar document?."
   ]
  },
  {
   "cell_type": "code",
   "execution_count": 60,
   "metadata": {},
   "outputs": [
    {
     "name": "stdout",
     "output_type": "stream",
     "text": [
      "[[1. 0. 1. 0. 0.]]\n"
     ]
    }
   ],
   "source": [
    "doc3 = features [2:3]\n",
    "scores3 = linear_kernel (doc3, features)\n",
    "print (scores3)"
   ]
  },
  {
   "cell_type": "markdown",
   "metadata": {},
   "source": [
    "#### Question-3. Find Top-2 similar documents for the 3rd document based on Cosine similarity values"
   ]
  },
  {
   "cell_type": "code",
   "execution_count": 61,
   "metadata": {},
   "outputs": [
    {
     "name": "stdout",
     "output_type": "stream",
     "text": [
      "[[1. 0.]]\n"
     ]
    }
   ],
   "source": [
    "doc4 =features[0:2]\n",
    "scores4 = linear_kernel (doc3,doc4)\n",
    "print (scores4)"
   ]
  },
  {
   "cell_type": "code",
   "execution_count": null,
   "metadata": {},
   "outputs": [],
   "source": []
  }
 ],
 "metadata": {
  "kernelspec": {
   "display_name": "Python 3 (ipykernel)",
   "language": "python",
   "name": "python3"
  },
  "language_info": {
   "codemirror_mode": {
    "name": "ipython",
    "version": 3
   },
   "file_extension": ".py",
   "mimetype": "text/x-python",
   "name": "python",
   "nbconvert_exporter": "python",
   "pygments_lexer": "ipython3",
   "version": "3.11.4"
  }
 },
 "nbformat": 4,
 "nbformat_minor": 2
}
