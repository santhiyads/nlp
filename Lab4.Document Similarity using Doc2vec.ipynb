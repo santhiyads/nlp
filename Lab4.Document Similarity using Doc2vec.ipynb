{
 "cells": [
  {
   "cell_type": "code",
   "execution_count": 3,
   "id": "ada14c69",
   "metadata": {},
   "outputs": [],
   "source": [
    "from gensim.models.doc2vec import Doc2Vec, TaggedDocument\n",
    "from nltk.tokenize import word_tokenize\n",
    "from sklearn import utils"
   ]
  },
  {
   "cell_type": "code",
   "execution_count": 4,
   "id": "6a31c966",
   "metadata": {},
   "outputs": [],
   "source": [
    "data=[\"I love machine learning. Its awesome.\",\n",
    "      \"I love coding in python\",\n",
    "      \"I love building chatbots\",\n",
    "      \"they chat amagingly well\"]"
   ]
  },
  {
   "cell_type": "code",
   "execution_count": 5,
   "id": "575e602c",
   "metadata": {},
   "outputs": [],
   "source": [
    "tagged_data=[TaggedDocument(words=word_tokenize(d.lower()),\n",
    "      tags=[str(i)]) for i,d in enumerate(data)]"
   ]
  },
  {
   "cell_type": "code",
   "execution_count": 4,
   "id": "1e23f6c4",
   "metadata": {},
   "outputs": [
    {
     "name": "stdout",
     "output_type": "stream",
     "text": [
      "Model Saved\n"
     ]
    }
   ],
   "source": [
    "#model parameters\n",
    "vec_size=20\n",
    "alpha=0.025\n",
    "\n",
    "#create model\n",
    "model=Doc2Vec(vector_size=vec_size,\n",
    "             alpha=alpha,\n",
    "             min_alpha=0.00025,\n",
    "             min_count=1,\n",
    "             dm=1)\n",
    "\n",
    "#build vocabulary\n",
    "model.build_vocab(tagged_data)\n",
    "\n",
    "#shuffle data\n",
    "tagged_data=utils.shuffle(tagged_data)\n",
    "\n",
    "#train Doc2Vec model\n",
    "model.train(tagged_data,\n",
    "           total_examples=model.corpus_count,\n",
    "           epochs=30)\n",
    "\n",
    "model.save(\"d2v.model\")\n",
    "print(\"Model Saved\")"
   ]
  },
  {
   "cell_type": "code",
   "execution_count": 5,
   "id": "a8ac7352",
   "metadata": {},
   "outputs": [
    {
     "name": "stdout",
     "output_type": "stream",
     "text": [
      "v1_infer [-0.02195547 -0.0245619  -0.02024276 -0.00713008  0.0085923  -0.01958818\n",
      "  0.01112549 -0.01817585  0.00255519  0.0017861   0.01265741  0.01068503\n",
      " -0.00259395 -0.0115176  -0.02447913  0.02241191 -0.01594779 -0.02295818\n",
      "  0.00644238  0.01260649]\n",
      "[('2', 0.33049604296684265), ('0', 0.2822021245956421), ('3', 0.21923279762268066)]\n",
      "[-0.01945703  0.012967   -0.02883101  0.01306092  0.02972078 -0.04124426\n",
      " -0.04221799 -0.05047695  0.02455551 -0.04645476  0.02941572  0.03448201\n",
      " -0.03350404 -0.02361541 -0.00679895  0.0083525  -0.00737908 -0.0428138\n",
      " -0.01895355  0.00903601]\n"
     ]
    }
   ],
   "source": [
    "from gensim.models.doc2vec import Doc2Vec\n",
    "\n",
    "model=Doc2Vec.load(\"d2v.model\")\n",
    "\n",
    "#to find the vector of a document which is not in training data\n",
    "\n",
    "test_data=word_tokenize(\"I love chatbots\".lower())\n",
    "v1=model.infer_vector(test_data)\n",
    "print(\"v1_infer\",v1)\n",
    "\n",
    "#to find most similar doc using tags\n",
    "similar_doc=model.dv.most_similar('1')\n",
    "print(similar_doc)\n",
    "\n",
    "#to find vector of doc in training data using tags or\n",
    "#In other words,printing the vector of document at index 1 in training data\n",
    "\n",
    "print(model.dv[\"1\"])"
   ]
  },
  {
   "cell_type": "code",
   "execution_count": 6,
   "id": "c6eaa95b",
   "metadata": {},
   "outputs": [],
   "source": [
    "docs = [\"the house had a tiny little mouse\",\n",
    "        \"the cat saw the mouse\",\n",
    "        \"the mouse ran away from the house\",\n",
    "        \"the cat finally ate the mouse\",\n",
    "        \"the end of the mouse story\"]"
   ]
  },
  {
   "cell_type": "code",
   "execution_count": 7,
   "id": "e4d56bfc",
   "metadata": {},
   "outputs": [],
   "source": [
    "tagged_docs=[TaggedDocument(words=word_tokenize(d.lower()),\n",
    "      tags=[str(i)]) for i,d in enumerate(data)]"
   ]
  },
  {
   "cell_type": "code",
   "execution_count": 8,
   "id": "6dfbae1c",
   "metadata": {},
   "outputs": [
    {
     "name": "stdout",
     "output_type": "stream",
     "text": [
      "Model Saved\n"
     ]
    }
   ],
   "source": [
    "#model parameters\n",
    "vec_size=20\n",
    "alpha=0.025\n",
    "\n",
    "#create model\n",
    "model=Doc2Vec(vector_size=vec_size,\n",
    "             alpha=alpha,\n",
    "             min_alpha=0.00025,\n",
    "             min_count=1,\n",
    "             dm=1)\n",
    "\n",
    "#build vocabulary\n",
    "model.build_vocab(tagged_data)\n",
    "\n",
    "#shuffle data\n",
    "tagged_data=utils.shuffle(tagged_data)\n",
    "\n",
    "#train Doc2Vec model\n",
    "model.train(tagged_data,\n",
    "           total_examples=model.corpus_count,\n",
    "           epochs=30)\n",
    "\n",
    "model.save(\"d2v.model\")\n",
    "print(\"Model Saved\")"
   ]
  },
  {
   "cell_type": "code",
   "execution_count": 9,
   "id": "d2e93983",
   "metadata": {},
   "outputs": [
    {
     "name": "stdout",
     "output_type": "stream",
     "text": [
      "v1_infer [-0.02184505 -0.02439667 -0.02027198 -0.00698689  0.00848399 -0.01952014\n",
      "  0.01114119 -0.01812812  0.00249803  0.00191521  0.01267384  0.0107105\n",
      " -0.00246222 -0.01132781 -0.02442457  0.02231955 -0.01598216 -0.02307955\n",
      "  0.00662865  0.01243413]\n",
      "[('2', 0.3363722562789917), ('0', 0.21636487543582916), ('3', -0.34923598170280457)]\n",
      "[ 0.01405259  0.04634079  0.02115511 -0.0208826   0.01183884 -0.02258412\n",
      "  0.02823493  0.00856649 -0.01152086 -0.02995511 -0.04005232 -0.00377405\n",
      " -0.04547277 -0.046905   -0.04004321  0.0107208  -0.03252539 -0.03903639\n",
      "  0.00991344  0.01041381]\n"
     ]
    }
   ],
   "source": [
    "from gensim.models.doc2vec import Doc2Vec\n",
    "\n",
    "model=Doc2Vec.load(\"d2v.model\")\n",
    "\n",
    "#to find the vector of a document which is not in training data\n",
    "\n",
    "test_data=word_tokenize(\"I love chatbots\".lower())\n",
    "v1=model.infer_vector(test_data)\n",
    "print(\"v1_infer\",v1)\n",
    "\n",
    "#to find most similar doc using tags\n",
    "similar_doc=model.dv.most_similar('1')\n",
    "print(similar_doc)\n",
    "\n",
    "#to find vector of doc in training data using tags or\n",
    "#In other words,printing the vector of document at index 1 in training data\n",
    "\n",
    "print(model.dv[\"1\"])"
   ]
  },
  {
   "cell_type": "code",
   "execution_count": null,
   "id": "33522849",
   "metadata": {},
   "outputs": [],
   "source": []
  }
 ],
 "metadata": {
  "kernelspec": {
   "display_name": "Python 3 (ipykernel)",
   "language": "python",
   "name": "python3"
  },
  "language_info": {
   "codemirror_mode": {
    "name": "ipython",
    "version": 3
   },
   "file_extension": ".py",
   "mimetype": "text/x-python",
   "name": "python",
   "nbconvert_exporter": "python",
   "pygments_lexer": "ipython3",
   "version": "3.11.4"
  }
 },
 "nbformat": 4,
 "nbformat_minor": 5
}
